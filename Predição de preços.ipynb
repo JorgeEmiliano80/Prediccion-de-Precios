{
 "cells": [
  {
   "cell_type": "markdown",
   "metadata": {
    "collapsed": true
   },
   "source": [
    "# Prevendo preços de carros\n",
    "\n",
    "\n",
    "### Neste módulo iremos usar alguns modelos de regressão para prever preços de carros. Além disso iremos calcular métricas para cada um e no final escolher o que melhor prediz os valores evitando o overfitting."
   ]
  },
  {
   "cell_type": "markdown",
   "metadata": {},
   "source": [
    "Antes de tudo faremos os imports das bibliotecas que iremos usar por agora"
   ]
  },
  {
   "cell_type": "code",
   "execution_count": 1,
   "metadata": {},
   "outputs": [],
   "source": [
    "# \n",
    "import pandas as pd\n",
    "import matplotlib.pyplot as plt\n",
    "import seaborn as sns\n",
    "\n",
    "%matplotlib inline\n",
    "sns.set(style=\"darkgrid\")\n",
    "#\n",
    "dataframe = pd.read_csv(r'D:\\Documentos\\UFCG\\IA\\ProjetoPredicao\\predicao-precos\\true_car_listings.csv')"
   ]
  },
  {
   "cell_type": "markdown",
   "metadata": {},
   "source": [
    "Seria interessante ter um overview de como está organizado o nosso dataset, para isso vamos printar o nome das colunas:"
   ]
  },
  {
   "cell_type": "code",
   "execution_count": 3,
   "metadata": {},
   "outputs": [
    {
     "name": "stdout",
     "output_type": "stream",
     "text": [
      "Index(['Price', 'Year', 'Mileage', 'City', 'State', 'Vin', 'Make', 'Model'], dtype='object')\n"
     ]
    }
   ],
   "source": [
    "print(dataframe.columns)"
   ]
  },
  {
   "cell_type": "markdown",
   "metadata": {},
   "source": [
    "Ao observar as colunas, avistamos a coluna VIN, esse é o Número de Identificação do Veículo. Esse código serve apenas para própositos de registros. Além disso podemos ter elementos duplicados. Sabendo disto é interessante nós fazermos a primeira filtragem do dataset."
   ]
  },
  {
   "cell_type": "code",
   "execution_count": 3,
   "metadata": {},
   "outputs": [],
   "source": [
    "dataframe_filtered = dataframe.drop(['Vin'], axis=1)\n",
    "dataframe_filtered = dataframe_filtered.drop_duplicates()"
   ]
  },
  {
   "cell_type": "markdown",
   "metadata": {},
   "source": [
    "Vamos fazer um overview do nosso dataframe filtrado ordenando por preço de forma decrescente com o objetivo de identificar valores muito abaixo ou muito acima, ou seja, outliers."
   ]
  },
  {
   "cell_type": "code",
   "execution_count": 5,
   "metadata": {},
   "outputs": [
    {
     "data": {
      "text/plain": [
       "{'whiskers': [<matplotlib.lines.Line2D at 0x273917f2e10>,\n  <matplotlib.lines.Line2D at 0x273918001d0>],\n 'caps': [<matplotlib.lines.Line2D at 0x27391800550>,\n  <matplotlib.lines.Line2D at 0x273918008d0>],\n 'boxes': [<matplotlib.lines.Line2D at 0x273917f2c88>],\n 'medians': [<matplotlib.lines.Line2D at 0x27391800c50>],\n 'fliers': [<matplotlib.lines.Line2D at 0x27391800fd0>],\n 'means': []}"
      ]
     },
     "execution_count": 5,
     "metadata": {},
     "output_type": "execute_result"
    },
    {
     "data": {
      "image/png": "[encoded data removed]",
      "text/plain": [
       "<Figure size 432x288 with 1 Axes>"
      ]
     },
     "metadata": {},
     "output_type": "display_data"
    }
   ],
   "source": [
    "plt.boxplot(dataframe_filtered['Price'])"
   ]
  },
  {
   "cell_type": "markdown",
   "metadata": {},
   "source": [
    "Com esse gráfico plotado descobrimos 2 coisas:\n",
    "I) Não temos outliers aparentes\n",
    "II) A maior parte dos preços são baixos"
   ]
  },
  {
   "cell_type": "markdown",
   "metadata": {},
   "source": [
    "Questionamento 1: Será que a cidade influencia no preço dos veículos?\n",
    "\n",
    "Para responder isso vamos plotar o gráfico da média de preços e ver se existe uma variação considerável para saber se a variável City é importante para nós."
   ]
  },
  {
   "cell_type": "code",
   "execution_count": 18,
   "metadata": {},
   "outputs": [
    {
     "data": {
      "text/plain": [
       "{'whiskers': [<matplotlib.lines.Line2D at 0x2739d8261d0>,\n  <matplotlib.lines.Line2D at 0x2739d826550>],\n 'caps': [<matplotlib.lines.Line2D at 0x2739d8268d0>,\n  <matplotlib.lines.Line2D at 0x2739d826c50>],\n 'boxes': [<matplotlib.lines.Line2D at 0x2739d826048>],\n 'medians': [<matplotlib.lines.Line2D at 0x2739d826fd0>],\n 'fliers': [<matplotlib.lines.Line2D at 0x2739d5f7390>],\n 'means': []}"
      ]
     },
     "execution_count": 18,
     "metadata": {},
     "output_type": "execute_result"
    },
    {
     "data": {
      "image/png": "[encoded data removed]",
      "text/plain": [
       "<Figure size 432x288 with 1 Axes>"
      ]
     },
     "metadata": {},
     "output_type": "display_data"
    }
   ],
   "source": [
    "#\n",
    "df_prices_states = dataframe_filtered[[\"Price\",\"State\"]]\n",
    "df_prices_states = df_prices_states.groupby(\"State\").mean().reset_index()\n",
    "df_prices_states = df_prices_states.sort_values(by='Price', ascending=False)\n",
    "\n",
    "# print(df_prices_states)\n",
    "\n",
    "plt.boxplot(df_prices_states['Price'])"
   ]
  },
  {
   "cell_type": "markdown",
   "metadata": {},
   "source": [
    "Observamos que a média de preço dos estados são bem parecidas, logo, inferimos que a média das suas cidades também são parecidas. Com isso podemos retirar as variáveis State e City dos nossos dados."
   ]
  },
  {
   "cell_type": "code",
   "execution_count": null,
   "metadata": {},
   "outputs": [],
   "source": []
  }
 ],
 "metadata": {
  "kernelspec": {
   "display_name": "Python 2",
   "language": "python",
   "name": "python2"
  },
  "language_info": {
   "codemirror_mode": {
    "name": "ipython",
    "version": 2
   },
   "file_extension": ".py",
   "mimetype": "text/x-python",
   "name": "python",
   "nbconvert_exporter": "python",
   "pygments_lexer": "ipython2",
   "version": "2.7.6"
  }
 },
 "nbformat": 4,
 "nbformat_minor": 0
}
