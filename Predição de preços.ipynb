{
 "cells": [
  {
   "cell_type": "markdown",
   "metadata": {
    "collapsed": true
   },
   "source": [
    "# Prevendo preços de carros\n",
    "\n",
    "\n",
    "### Neste módulo iremos usar alguns modelos de regressão para prever preços de carros. Além disso iremos calcular métricas para cada um e no final escolher o que melhor prediz os valores evitando o overfitting."
   ]
  },
  {
   "cell_type": "markdown",
   "metadata": {},
   "source": [
    "Antes de tudo faremos os imports das bibliotecas que iremos usar por agora"
   ]
  },
  {
   "cell_type": "code",
   "execution_count": 2,
   "metadata": {},
   "outputs": [],
   "source": [
    "# \n",
    "import warnings\n",
    "import pandas as pd\n",
    "import matplotlib.pyplot as plt\n",
    "import seaborn as sns\n",
    "import numpy as np\n",
    "from sklearn.ensemble import RandomForestRegressor\n",
    "from sklearn.neighbors import KNeighborsRegressor\n",
    "from sklearn.linear_model import LinearRegression\n",
    "from sklearn.metrics import mean_squared_error\n",
    "from sklearn.metrics import mean_absolute_error\n",
    "\n",
    "%matplotlib inline\n",
    "sns.set(style=\"darkgrid\")\n",
    "# Suppress warnings\n",
    "warnings.filterwarnings(\"ignore\")\n",
    "#\n",
    "dataframe = pd.read_csv(r'D:\\Documentos\\UFCG\\IA\\ProjetoPredicao\\predicao-precos\\true_car_listings.csv')"
   ]
  },
  {
   "cell_type": "markdown",
   "metadata": {},
   "source": [
    "Seria interessante ter um overview de como está organizado o nosso dataset, para isso vamos printar o nome das colunas:"
   ]
  },
  {
   "cell_type": "code",
   "execution_count": 3,
   "metadata": {},
   "outputs": [
    {
     "name": "stdout",
     "output_type": "stream",
     "text": [
      "Index(['Price', 'Year', 'Mileage', 'City', 'State', 'Vin', 'Make', 'Model'], dtype='object')\n"
     ]
    }
   ],
   "source": [
    "print(dataframe.columns)"
   ]
  },
  {
   "cell_type": "markdown",
   "metadata": {},
   "source": [
    "Ao observar as colunas, avistamos a coluna VIN, esse é o Número de Identificação do Veículo. Esse código serve apenas para própositos de registros. Além disso podemos ter elementos duplicados. Sabendo disto é interessante nós fazermos a primeira filtragem do dataset."
   ]
  },
  {
   "cell_type": "code",
   "execution_count": 4,
   "metadata": {},
   "outputs": [],
   "source": [
    "dataframe_filtered = dataframe.drop(['Vin'], axis=1)\n",
    "dataframe_filtered = dataframe_filtered.drop_duplicates()"
   ]
  },
  {
   "cell_type": "markdown",
   "metadata": {},
   "source": [
    "Vamos fazer um overview do nosso dataframe filtrado ordenando por preço de forma decrescente com o objetivo de identificar valores muito abaixo ou muito acima, ou seja, outliers."
   ]
  },
  {
   "cell_type": "code",
   "execution_count": 5,
   "metadata": {},
   "outputs": [
    {
     "data": {
      "text/plain": [
       "{'whiskers': [<matplotlib.lines.Line2D at 0x1c6bce65208>,\n  <matplotlib.lines.Line2D at 0x1c6bce65b38>],\n 'caps': [<matplotlib.lines.Line2D at 0x1c6bce65860>,\n  <matplotlib.lines.Line2D at 0x1c6bce65f98>],\n 'boxes': [<matplotlib.lines.Line2D at 0x1c6bce74eb8>],\n 'medians': [<matplotlib.lines.Line2D at 0x1c6bce65a90>],\n 'fliers': [<matplotlib.lines.Line2D at 0x1c6c4abec18>],\n 'means': []}"
      ]
     },
     "execution_count": 5,
     "metadata": {},
     "output_type": "execute_result"
    },
    {
     "data": {
      "image/png": "[encoded data removed]",
      "text/plain": [
       "<Figure size 432x288 with 1 Axes>"
      ]
     },
     "metadata": {},
     "output_type": "display_data"
    }
   ],
   "source": [
    "plt.boxplot(dataframe_filtered['Price'])"
   ]
  },
  {
   "cell_type": "markdown",
   "metadata": {},
   "source": [
    "Com esse gráfico plotado descobrimos 2 coisas:\n",
    "I) Não temos outliers aparentes\n",
    "II) A maior parte dos preços são baixos"
   ]
  },
  {
   "cell_type": "markdown",
   "metadata": {},
   "source": [
    "### Questionamento: Será que o estado influencia no preço dos veículos?\n",
    "\n",
    "Para responder isso vamos plotar o gráfico da média de preços e ver se existe uma variação considerável para saber se a variável State é importante para nós."
   ]
  },
  {
   "cell_type": "code",
   "execution_count": 6,
   "metadata": {},
   "outputs": [
    {
     "data": {
      "text/plain": [
       "{'whiskers': [<matplotlib.lines.Line2D at 0x1c6c648e940>,\n  <matplotlib.lines.Line2D at 0x1c6c648ecc0>],\n 'caps': [<matplotlib.lines.Line2D at 0x1c6c6486080>,\n  <matplotlib.lines.Line2D at 0x1c6c6486400>],\n 'boxes': [<matplotlib.lines.Line2D at 0x1c6c648e7b8>],\n 'medians': [<matplotlib.lines.Line2D at 0x1c6c6486780>],\n 'fliers': [<matplotlib.lines.Line2D at 0x1c6c6486b00>],\n 'means': []}"
      ]
     },
     "execution_count": 6,
     "metadata": {},
     "output_type": "execute_result"
    },
    {
     "data": {
      "image/png": "[encoded data removed]",
      "text/plain": [
       "<Figure size 432x288 with 1 Axes>"
      ]
     },
     "metadata": {},
     "output_type": "display_data"
    }
   ],
   "source": [
    "#\n",
    "df_prices_states = dataframe_filtered[[\"Price\",\"State\"]]\n",
    "df_prices_states = df_prices_states.groupby(\"State\").mean().reset_index()\n",
    "df_prices_states = df_prices_states.sort_values(by='Price', ascending=False)\n",
    "\n",
    "# print(df_prices_states)\n",
    "\n",
    "plt.boxplot(df_prices_states['Price'])"
   ]
  },
  {
   "cell_type": "markdown",
   "metadata": {},
   "source": [
    "Observamos que a média de preço dos estados são bem parecidas, logo, inferimos que a média das suas cidades também são parecidas. Com isso podemos retirar as variáveis State e City dos nossos dados."
   ]
  },
  {
   "cell_type": "code",
   "execution_count": 7,
   "metadata": {},
   "outputs": [
    {
     "name": "stdout",
     "output_type": "stream",
     "text": [
      "        Price  Year  Mileage   Make         Model\n0        8995  2014    35725  Acura    ILX6-Speed\n1       10888  2013    19606  Acura    ILX5-Speed\n2        8995  2013    48851  Acura    ILX6-Speed\n3       10999  2014    39922  Acura    ILX5-Speed\n4       14799  2016    22142  Acura  ILXAutomatic\n5        7989  2012   105246  Acura  TSXAutomatic\n6       14490  2014    34032  Acura    TSXSpecial\n7       13995  2013    32384  Acura    TSX5-Speed\n8       10495  2013    57596  Acura    ILX6-Speed\n9        9995  2013    63887  Acura    ILX5-Speed\n10      12921  2012    58550  Acura  TSXAutomatic\n11      12000  2013    40527  Acura    ILX5-Speed\n12       7750  2009    91980  Acura        TSX4dr\n13      17628  2015    13797  Acura    ILX5-Speed\n14      13999  2013    35035  Acura    TSX5-Speed\n15      14995  2014    23454  Acura    ILX5-Speed\n16      14990  2015    23603  Acura    ILX5-Speed\n17      14590  2010    19250  Acura        TSX4dr\n18       9500  2011    68289  Acura        TSX4dr\n19       7990  2007    60552  Acura        TSX4dr\n20      16994  2015    23946  Acura    ILX5-Speed\n21      15499  2014    27171  Acura    TSX5-Speed\n22      13499  2014    35037  Acura    ILX5-Speed\n23      13999  2013    38343  Acura    TSX5-Speed\n24      14999  2014    17669  Acura    ILX5-Speed\n25      15995  2014    37483  Acura    TSXSpecial\n26      14500  2010    25926  Acura        TSX4dr\n27      13995  2014    30214  Acura    ILX5-Speed\n28      16000  2015    30881  Acura    ILX5-Speed\n29      17419  2015    15390  Acura    ILX5-Speed\n...       ...   ...      ...    ...           ...\n852092  51995  2017    12727  Volvo         S90T6\n852093  55499  2016    25659  Volvo       XC90AWD\n852094  54995  2016    16578  Volvo       XC90AWD\n852095  67739  2017     3335  Volvo           V90\n852096  64905  2017    12684  Volvo        XC90T8\n852097  62255  2017        9  Volvo        XC90T5\n852098  56995  2016    13041  Volvo       XC90AWD\n852099  56789  2016    19250  Volvo       XC90AWD\n852100  63529  2017       25  Volvo        XC90T6\n852101  59175  2017     1322  Volvo         S90T6\n852102  54995  2017     9631  Volvo         S90T6\n852103  59260  2017     2126  Volvo         S90T6\n852104  54995  2017    10913  Volvo         S90T6\n852105  59970  2017     2773  Volvo        XC90T6\n852106  59990  2017     7887  Volvo           V90\n852107  61990  2017     2201  Volvo         S90T6\n852108  45280  2017        8  Volvo         V60T5\n852109  61498  2017     4559  Volvo           V90\n852110  57222  2016    15070  Volvo          XC90\n852111  46500  2017        8  Volvo         V60T5\n852112  46530  2017       10  Volvo         V60T5\n852113  63995  2017     4304  Volvo        XC90T8\n852114  53855  2017     7530  Volvo         S90T6\n852115  80895  2017       10  Volvo        XC90T8\n852116  54995  2017     2474  Volvo         S90T6\n852117  63215  2017        9  Volvo         S90T6\n852118  72260  2017     3201  Volvo        XC90T6\n852119  55999  2016    28941  Volvo       XC90AWD\n852120  60240  2017     3005  Volvo           V90\n852121  76995  2017     2502  Volvo        XC90T8\n\n[851154 rows x 5 columns]\n"
     ]
    }
   ],
   "source": [
    "dataframe_filtered = dataframe_filtered.drop(columns=['City', 'State'], axis=1)\n",
    "dataframe_filtered = dataframe_filtered.drop_duplicates()\n",
    "print(dataframe_filtered)"
   ]
  },
  {
   "cell_type": "markdown",
   "metadata": {},
   "source": [
    "### Se preparando para o modelo\n",
    "\n",
    "Antes de dividirmos nossos dados em treino e teste vamos fazer o hot encoding das nossas variáveis categóricas:"
   ]
  },
  {
   "cell_type": "code",
   "execution_count": 8,
   "metadata": {},
   "outputs": [],
   "source": [
    "dataframe_filtered['Model'] = dataframe_filtered['Model'].str.replace(',', '')\n",
    "dataframe_filtered['Model'] = dataframe_filtered['Model'].str.upper()\n",
    "\n",
    "# print(dataframe_filtered['Model'].str.upper())\n",
    "# print(pd.get_dummies(dataframe_filtered).columns)\n",
    "\n",
    "# dataframe_filtered = pd.get_dummies(dataframe_filtered)\n",
    "dataframe_filtered.to_csv('dataframe_filtered.csv', encoding='utf-8')"
   ]
  },
  {
   "cell_type": "code",
   "execution_count": null,
   "metadata": {},
   "outputs": [],
   "source": [
    "frametest = pd.read_csv(r'D:\\Documentos\\UFCG\\IA\\ProjetoPredicao\\dataframe_filtered.csv')\n",
    "print(frametest.shape[0])"
   ]
  },
  {
   "cell_type": "heading",
   "metadata": {},
   "level": 1,
   "source": [
    "#Média do RMSE do Random Forest: 1072.3616758179492\n",
    "#Média do MAE do Random Forest: 181.87334821638441\n",
    "\n",
    "\n",
    "#Média do RMSE do Linear Regression: 802.8830088048812\n",
    "#Média do MAE do Linear Regression: 128.50194469626481\n",
    "\n",
    "\n",
    "#Média do RMSE do K Nearest Neighbors: 1013.2651962414999\n",
    "#Média do MAE do K Nearest Neighbors: 326.4233831675782"
   ]
  },
  {
   "cell_type": "code",
   "execution_count": null,
   "metadata": {},
   "outputs": [],
   "source": []
  }
 ],
 "metadata": {
  "kernelspec": {
   "display_name": "Python 2",
   "language": "python",
   "name": "python2"
  },
  "language_info": {
   "codemirror_mode": {
    "name": "ipython",
    "version": 2
   },
   "file_extension": ".py",
   "mimetype": "text/x-python",
   "name": "python",
   "nbconvert_exporter": "python",
   "pygments_lexer": "ipython2",
   "version": "2.7.6"
  }
 },
 "nbformat": 4,
 "nbformat_minor": 0
}
