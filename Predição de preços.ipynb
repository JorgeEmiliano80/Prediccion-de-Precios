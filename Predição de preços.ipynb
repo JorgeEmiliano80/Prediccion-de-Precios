{
 "cells": [
  {
   "cell_type": "markdown",
   "metadata": {
    "collapsed": true
   },
   "source": [
    "# Prevendo preços de carros\n",
    "\n",
    "\n",
    "### Neste módulo iremos usar alguns modelos de regressão para prever preços de carros. Além disso iremos calcular métricas para cada um e no final escolher o que melhor prediz os valores evitando o overfitting."
   ]
  },
  {
   "cell_type": "markdown",
   "metadata": {},
   "source": [
    "Antes de tudo faremos os imports das bibliotecas que iremos usar por agora"
   ]
  },
  {
   "cell_type": "code",
   "execution_count": 20,
   "metadata": {},
   "outputs": [],
   "source": [
    "# \n",
    "import pandas as pd\n",
    "import matplotlib.pyplot as plt\n",
    "\n",
    "#\n",
    "dataframe = pd.read_csv(r'D:\\Documentos\\UFCG\\IA\\ProjetoPredicao\\predicao-precos\\true_car_listings.csv')\n",
    "df_counts = dataframe[[\"Make\"]].groupby(\"Make\").size().reset_index(name='Counts')\n",
    "df_counts = df_counts.sort_values(by='Counts', ascending=False)"
   ]
  },
  {
   "cell_type": "markdown",
   "metadata": {},
   "source": [
    "Para explicar melhor o passo anterior, nós carregamos o dataset e criamos um novo objeto de dataframe chamado df_counts com o objetivo de plotar um gráfico para saber as fabricantes e o número de veículos que cada uma tem no dataset. O próximo bloco de código irá nos mostrar isso."
   ]
  },
  {
   "cell_type": "code",
   "execution_count": null,
   "metadata": {},
   "outputs": [
    {
     "data": {
      "text/plain": [
       "<BarContainer object of 58 artists>"
      ]
     },
     "execution_count": 21,
     "metadata": {},
     "output_type": "execute_result"
    }
   ],
   "source": [
    "#\n",
    "plt.xlabel('FABRICANTE')\n",
    "plt.ylabel('NUMERO DE VEICULOS')\n",
    "plt.xticks(rotation=90) #Rotaciona os nomes do eixo X em 90 graus\n",
    "plt.bar(df_counts['Make'], df_counts['Counts'])"
   ]
  },
  {
   "cell_type": "code",
   "execution_count": null,
   "metadata": {},
   "outputs": [],
   "source": []
  }
 ],
 "metadata": {
  "kernelspec": {
   "display_name": "Python 2",
   "language": "python",
   "name": "python2"
  },
  "language_info": {
   "codemirror_mode": {
    "name": "ipython",
    "version": 2
   },
   "file_extension": ".py",
   "mimetype": "text/x-python",
   "name": "python",
   "nbconvert_exporter": "python",
   "pygments_lexer": "ipython2",
   "version": "2.7.6"
  }
 },
 "nbformat": 4,
 "nbformat_minor": 0
}
