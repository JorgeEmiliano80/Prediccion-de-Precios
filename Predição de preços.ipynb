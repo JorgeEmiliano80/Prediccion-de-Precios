{
 "cells": [
  {
   "cell_type": "code",
   "execution_count": 8,
   "metadata": {
    "collapsed": true
   },
   "outputs": [],
   "source": [
    "import pandas as pd\n"
   ]
  },
  {
   "cell_type": "code",
   "execution_count": 10,
   "metadata": {},
   "outputs": [],
   "source": [
    "dataset = pd.read_csv(r'D:\\Documentos\\UFCG\\IA\\ProjetoPredicao\\predicao-precos\\true_car_listings.csv')"
   ]
  },
  {
   "cell_type": "code",
   "execution_count": 11,
   "metadata": {},
   "outputs": [
    {
     "name": "stdout",
     "output_type": "stream",
     "text": [
      "        Price  Year  Mileage               City State                Vin  \\\n0        8995  2014    35725            El Paso    TX  19VDE2E53EE000083   \n1       10888  2013    19606   Long Island City    NY  19VDE1F52DE012636   \n2        8995  2013    48851            El Paso    TX  19VDE2E52DE000025   \n3       10999  2014    39922            Windsor    CO  19VDE1F71EE003817   \n4       14799  2016    22142             Lindon    UT  19UDE2F32GA001284   \n5        7989  2012   105246              Miami    FL  JH4CU2F83CC019895   \n6       14490  2014    34032          Greatneck    NY  JH4CU2F84EC002686   \n7       13995  2013    32384        West Jordan    UT  JH4CU2F64DC006203   \n8       10495  2013    57596          Waterbury    CT  19VDE2E50DE000234   \n9        9995  2013    63887            El Paso    TX  19VDE1F50DE010450   \n10      12921  2012    58550              Boise    ID  JH4CU2F44CC003220   \n11      12000  2013    40527   Long Island City    NY  19VDE1F38DE020867   \n12       7750  2009    91980        San Antonio    TX  JH4CU26639C015787   \n13      17628  2015    13797              Fargo    ND  19VDE1F38FE001240   \n14      13999  2013    35035          Santa Ana    CA  JH4CU2F4XDC000369   \n15      14995  2014    23454       Hackettstown    NJ  19VDE1F31EE009243   \n16      14990  2015    23603           Freeport    NY  19VDE1F3XFE007606   \n17      14590  2010    19250         Clearwater    FL  JH4CU2F6XAC041680   \n18       9500  2011    68289            Arcadia    FL  JH4CU2F62BC007928   \n19       7990  2007    60552           Fairlawn    NJ  JH4CL96857C019060   \n20      16994  2015    23946      St. Augustine    FL  19VDE1F32FE000651   \n21      15499  2014    27171          Santa Ana    CA  JH4CU2F49EC005287   \n22      13499  2014    35037        West Covina    CA  19VDE1F32EE013995   \n23      13999  2013    38343              Derby    CT  JH4CU2F45DC013160   \n24      14999  2014    17669              Miami    FL  19VDE1F37EE015239   \n25      15995  2014    37483         Egg Harbor    NJ  JH4CU2F80EC004208   \n26      14500  2010    25926           Columbus    OH  JH4CU2F69AC027155   \n27      13995  2014    30214           Dumfries    VA  19VDE1F37EE014687   \n28      16000  2015    30881           Pasadena    CA  19VDE1F34FE008878   \n29      17419  2015    15390       Indianapolis    IN  19VDE1F37FE002458   \n...       ...   ...      ...                ...   ...                ...   \n852092  51995  2017    12727             Berwyn    PA  YV1A22ML7H1003475   \n852093  55499  2016    25659       Fort Collins    CO  YV4A22PLXG1081083   \n852094  54995  2016    16578          Anchorage    AK  YV4A22PL0G1017599   \n852095  67739  2017     3335            Concord    NH  YV4A22NL4H1005105   \n852096  64905  2017    12684         Charleston    SC  YV4BC0PL4H1121181   \n852097  62255  2017        9        San Leandro    CA  YV4102KM9H1141961   \n852098  56995  2016    13041              Salem    OR  YV4A22PM4G1051814   \n852099  56789  2016    19250             Summit    NJ  YV4A22PM8G1050830   \n852100  63529  2017       25           Lynnwood    WA  YV4A22PL0H1187768   \n852101  59175  2017     1322          Englewood    NJ  YV1A22MKXH1010413   \n852102  54995  2017     9631             Berwyn    PA  YV1A22MK2H1013239   \n852103  59260  2017     2126  Hasbrouck Heights    NJ  YV1A22MK0H1015281   \n852104  54995  2017    10913             Berwyn    PA  YV1A22ML5H1004169   \n852105  59970  2017     2773           Oak Park    IL  YV4A22PLXH1173568   \n852106  59990  2017     7887          Maplewood    MN  YV4A22NL1H1004218   \n852107  61990  2017     2201      Winston Salem    NC  YV1A22ML0H1006850   \n852108  45280  2017        8        San Leandro    CA  YV140MEK1H1370375   \n852109  61498  2017     4559             Nashua    NH  YV4A22NL8H1005026   \n852110  57222  2016    15070          Frederick    MD  YV4BC0PK4G1078614   \n852111  46500  2017        8        San Leandro    CA  YV140MEM3H1370217   \n852112  46530  2017       10        San Leandro    CA  YV140MEK7H1364709   \n852113  63995  2017     4304           New York    NY  YV4BC0PL4H1115087   \n852114  53855  2017     7530           Marietta    GA  YV1A22MK3H1004002   \n852115  80895  2017       10       Corte Madera    CA  YV4BC0ZX0H1124188   \n852116  54995  2017     2474             Berwyn    PA  YV1A22MK1H1010445   \n852117  63215  2017        9        Culver City    CA  YV1A22MK9H1013237   \n852118  72260  2017     3201          Englewood    NJ  YV4A22PL3H1186162   \n852119  55999  2016    28941       Fort Collins    CO  YV4A22PL4G1000868   \n852120  60240  2017     3005        San Leandro    CA  YV4A22NLXH1006162   \n852121  76995  2017     2502           New York    NY  YV4BC0ZX1H1109845   \n\n         Make         Model  \n0       Acura    ILX6-Speed  \n1       Acura    ILX5-Speed  \n2       Acura    ILX6-Speed  \n3       Acura    ILX5-Speed  \n4       Acura  ILXAutomatic  \n5       Acura  TSXAutomatic  \n6       Acura    TSXSpecial  \n7       Acura    TSX5-Speed  \n8       Acura    ILX6-Speed  \n9       Acura    ILX5-Speed  \n10      Acura  TSXAutomatic  \n11      Acura    ILX5-Speed  \n12      Acura        TSX4dr  \n13      Acura    ILX5-Speed  \n14      Acura    TSX5-Speed  \n15      Acura    ILX5-Speed  \n16      Acura    ILX5-Speed  \n17      Acura        TSX4dr  \n18      Acura        TSX4dr  \n19      Acura        TSX4dr  \n20      Acura    ILX5-Speed  \n21      Acura    TSX5-Speed  \n22      Acura    ILX5-Speed  \n23      Acura    TSX5-Speed  \n24      Acura    ILX5-Speed  \n25      Acura    TSXSpecial  \n26      Acura        TSX4dr  \n27      Acura    ILX5-Speed  \n28      Acura    ILX5-Speed  \n29      Acura    ILX5-Speed  \n...       ...           ...  \n852092  Volvo         S90T6  \n852093  Volvo       XC90AWD  \n852094  Volvo       XC90AWD  \n852095  Volvo           V90  \n852096  Volvo        XC90T8  \n852097  Volvo        XC90T5  \n852098  Volvo       XC90AWD  \n852099  Volvo       XC90AWD  \n852100  Volvo        XC90T6  \n852101  Volvo         S90T6  \n852102  Volvo         S90T6  \n852103  Volvo         S90T6  \n852104  Volvo         S90T6  \n852105  Volvo        XC90T6  \n852106  Volvo           V90  \n852107  Volvo         S90T6  \n852108  Volvo         V60T5  \n852109  Volvo           V90  \n852110  Volvo          XC90  \n852111  Volvo         V60T5  \n852112  Volvo         V60T5  \n852113  Volvo        XC90T8  \n852114  Volvo         S90T6  \n852115  Volvo        XC90T8  \n852116  Volvo         S90T6  \n852117  Volvo         S90T6  \n852118  Volvo        XC90T6  \n852119  Volvo       XC90AWD  \n852120  Volvo           V90  \n852121  Volvo        XC90T8  \n\n[852122 rows x 8 columns]\n"
     ]
    }
   ],
   "source": [
    "print(dataset)"
   ]
  },
  {
   "cell_type": "code",
   "execution_count": null,
   "metadata": {},
   "outputs": [],
   "source": []
  }
 ],
 "metadata": {
  "kernelspec": {
   "display_name": "Python 2",
   "language": "python",
   "name": "python2"
  },
  "language_info": {
   "codemirror_mode": {
    "name": "ipython",
    "version": 2
   },
   "file_extension": ".py",
   "mimetype": "text/x-python",
   "name": "python",
   "nbconvert_exporter": "python",
   "pygments_lexer": "ipython2",
   "version": "2.7.6"
  }
 },
 "nbformat": 4,
 "nbformat_minor": 0
}
